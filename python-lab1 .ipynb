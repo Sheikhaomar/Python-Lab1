{
 "cells": [
  {
   "cell_type": "code",
   "execution_count": null,
   "id": "eb5f4f47",
   "metadata": {},
   "outputs": [],
   "source": [
    "favourite_season = \"spring\""
   ]
  },
  {
   "cell_type": "code",
   "execution_count": null,
   "id": "918d4412",
   "metadata": {},
   "outputs": [],
   "source": [
    "x = 3\n",
    "y = 3.9"
   ]
  },
  {
   "cell_type": "code",
   "execution_count": 1,
   "id": "bb49f318",
   "metadata": {},
   "outputs": [
    {
     "name": "stdout",
     "output_type": "stream",
     "text": [
      "3\n",
      "3\n"
     ]
    }
   ],
   "source": [
    "a = b = 3\n",
    "print (a)\n",
    "print (b)"
   ]
  },
  {
   "cell_type": "code",
   "execution_count": 2,
   "id": "9c517d4a",
   "metadata": {},
   "outputs": [
    {
     "name": "stdout",
     "output_type": "stream",
     "text": [
      "2\n",
      "3\n"
     ]
    }
   ],
   "source": [
    "a ,b =2,3\n",
    "print (a)\n",
    "print (b)"
   ]
  },
  {
   "cell_type": "code",
   "execution_count": null,
   "id": "51034948",
   "metadata": {},
   "outputs": [],
   "source": []
  }
 ],
 "metadata": {
  "kernelspec": {
   "display_name": "Python 3 (ipykernel)",
   "language": "python",
   "name": "python3"
  },
  "language_info": {
   "codemirror_mode": {
    "name": "ipython",
    "version": 3
   },
   "file_extension": ".py",
   "mimetype": "text/x-python",
   "name": "python",
   "nbconvert_exporter": "python",
   "pygments_lexer": "ipython3",
   "version": "3.10.9"
  }
 },
 "nbformat": 4,
 "nbformat_minor": 5
}
